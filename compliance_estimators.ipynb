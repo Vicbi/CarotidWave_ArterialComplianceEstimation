{
 "cells": [
  {
   "cell_type": "code",
   "execution_count": null,
   "metadata": {},
   "outputs": [],
   "source": [
    "import pandas as pd\n",
    "import numpy as np\n",
    "from sklearn.model_selection import train_test_split\n",
    "\n",
    "from utils import *\n",
    "from plot_functions import *"
   ]
  },
  {
   "cell_type": "markdown",
   "metadata": {},
   "source": [
    "# Set Experiment SetUp"
   ]
  },
  {
   "cell_type": "code",
   "execution_count": null,
   "metadata": {},
   "outputs": [],
   "source": [
    "# Set total arterial compliance (C_PPM) as the prediction variable\n",
    "prediction_variable = 'C_PPM'  \n",
    "variable_unit = 'mL/mmHg'\n",
    "\n",
    "# Select regression model, e.g., 'LR1','LR2','ANN1','ANN2','ANN3','ANN4'\n",
    "model_selection = 'ANN1' \n",
    "\n",
    "# Enable addition of noise and select noise level by setting an snr_dB value\n",
    "noise_mode = False\n",
    "snr_dB = 30\n",
    "\n",
    "# Enable figure saving\n",
    "save_figure_boolean = False\n",
    "\n",
    "# Enable printing results during training\n",
    "verbose = False\n",
    "\n",
    "# Set the experiment type\n",
    "experiment_type = 'invivo'"
   ]
  },
  {
   "cell_type": "markdown",
   "metadata": {},
   "source": [
    "# Load & Prepare Data"
   ]
  },
  {
   "cell_type": "code",
   "execution_count": null,
   "metadata": {},
   "outputs": [],
   "source": [
    "dataset,regressor = prepare_dataset(model_selection,prediction_variable,verbose,noise_mode,snr_dB)\n",
    "dataset.head()"
   ]
  },
  {
   "cell_type": "code",
   "execution_count": null,
   "metadata": {},
   "outputs": [],
   "source": [
    "if 'ANN' in model_selection: \n",
    "    scaled_dataset = scale_data(dataset)"
   ]
  },
  {
   "cell_type": "markdown",
   "metadata": {},
   "source": [
    "# Regression Analysis"
   ]
  },
  {
   "cell_type": "markdown",
   "metadata": {},
   "source": [
    "### Train/validation/test split"
   ]
  },
  {
   "cell_type": "code",
   "execution_count": null,
   "metadata": {},
   "outputs": [],
   "source": [
    "X,y = split_features_target(scaled_dataset)\n",
    "\n",
    "indices = np.arange(len(X))\n",
    "X_train_val, X_test, y_train_val, y_test, train_val_indices, test_indices = train_test_split(X, y, indices, test_size=0.105, random_state=42)\n",
    "\n",
    "indices2 = np.arange(len(X_train_val))\n",
    "X_train, X_val, y_train, y_val, train_indices, val_indices = train_test_split(X_train_val, y_train_val,indices2,test_size=0.11, random_state=42) \n",
    "\n",
    "print('The train set size is:', X_train.shape)\n",
    "print('The validation set size is:', X_val.shape)\n",
    "print('The test set size is:', X_test.shape)"
   ]
  },
  {
   "cell_type": "markdown",
   "metadata": {
    "tags": []
   },
   "source": [
    "### Epoch Selection with Early Stopping"
   ]
  },
  {
   "cell_type": "code",
   "execution_count": null,
   "metadata": {},
   "outputs": [],
   "source": [
    "selected_batch_size = 200\n",
    " \n",
    "# optimal_no_epochs = find_optimal_no_epochs(selected_batch_size, scaled_dataset, X_train, X_val, y_train, y_val, prediction_variable, verbose)"
   ]
  },
  {
   "cell_type": "markdown",
   "metadata": {},
   "source": [
    "### Model training and testing"
   ]
  },
  {
   "cell_type": "code",
   "execution_count": null,
   "metadata": {},
   "outputs": [],
   "source": [
    "model, y_pred = select_regression_model(X_train, X_test, y_train, model_selection, selected_batch_size, verbose)"
   ]
  },
  {
   "cell_type": "code",
   "execution_count": null,
   "metadata": {},
   "outputs": [],
   "source": [
    "if 'ANN' in model_selection: \n",
    "        y_pred = rescale_values(y_pred, prediction_variable, dataset)\n",
    "        y_test = rescale_values(y_test, prediction_variable, dataset)"
   ]
  },
  {
   "cell_type": "markdown",
   "metadata": {},
   "source": [
    "### Print results"
   ]
  },
  {
   "cell_type": "code",
   "execution_count": null,
   "metadata": {},
   "outputs": [],
   "source": [
    "print_results(y_test, y_pred, variable_unit)"
   ]
  },
  {
   "cell_type": "markdown",
   "metadata": {},
   "source": [
    "### Plot results"
   ]
  },
  {
   "cell_type": "code",
   "execution_count": null,
   "metadata": {},
   "outputs": [],
   "source": [
    "plot_data(y_test,y_pred,experiment_type,prediction_variable,model_selection,save_figure_boolean)"
   ]
  },
  {
   "cell_type": "markdown",
   "metadata": {},
   "source": [
    "# Permutation feature importances"
   ]
  },
  {
   "cell_type": "code",
   "execution_count": null,
   "metadata": {},
   "outputs": [],
   "source": [
    "# Define the model\n",
    "model, y_pred = artificial_neural_network(selected_batch_size, 118, X_train, X_test, y_train, verbose)\n",
    "\n",
    "# Define parameters\n",
    "num_iterations = 20\n",
    "rmse_differences = []\n",
    "importance_sum = np.zeros(X_train.shape[1])\n",
    "\n",
    "# Run the permutation feature importance calculation multiple times\n",
    "for _ in range(num_iterations):\n",
    "    importances = permutation_importances(model, X_train, y_train, mean_squared_error)\n",
    "    baseline_rmse = mean_squared_error(y_train, model.predict(X_train))\n",
    "    new_rmse = baseline_rmse + importances\n",
    "    rmse_difference = new_rmse - baseline_rmse\n",
    "    rmse_differences.append(rmse_difference)\n",
    "    importance_sum += importances\n",
    "\n",
    "# Calculate mean and standard deviation of RMSE differences\n",
    "mean_rmse_difference = np.mean(rmse_differences)\n",
    "std_dev_rmse_difference = np.std(rmse_differences)\n",
    "\n",
    "# Calculate average importance\n",
    "average_importance = importance_sum / num_iterations\n",
    "\n",
    "# Create a list of tuples with feature index and average importance\n",
    "feature_importance_tuples = list(enumerate(average_importance))\n",
    "\n",
    "# Sort the list by importance in ascending order\n",
    "feature_importance_tuples.sort(key=lambda x: x[1])\n",
    "\n",
    "# Print the importances in ascending order\n",
    "for i, importance in feature_importance_tuples:\n",
    "    print(f'Feature {i+1}: {importance}')\n",
    "\n",
    "# Print the results\n",
    "print(f\"\\nMean Increase in RMSE: {mean_rmse_difference}\")\n",
    "print(f\"Standard Deviation of Increase in RMSE: {std_dev_rmse_difference}\")"
   ]
  }
 ],
 "metadata": {
  "kernelspec": {
   "display_name": "Python 3 (ipykernel)",
   "language": "python",
   "name": "python3"
  },
  "language_info": {
   "codemirror_mode": {
    "name": "ipython",
    "version": 3
   },
   "file_extension": ".py",
   "mimetype": "text/x-python",
   "name": "python",
   "nbconvert_exporter": "python",
   "pygments_lexer": "ipython3",
   "version": "3.7.16"
  }
 },
 "nbformat": 4,
 "nbformat_minor": 4
}
